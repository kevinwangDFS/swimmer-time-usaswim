{
 "cells": [
  {
   "cell_type": "code",
   "execution_count": 20,
   "metadata": {},
   "outputs": [],
   "source": [
    "from selenium import webdriver\n",
    "from selenium.webdriver.common.by import By\n",
    "from selenium.webdriver.common.keys import Keys\n",
    "from selenium.webdriver.chrome.service import Service\n",
    "from selenium.webdriver.support import expected_conditions as EC\n",
    "from selenium.webdriver.support.ui import WebDriverWait, Select\n",
    "import time\n",
    "import pandas as pd"
   ]
  },
  {
   "cell_type": "code",
   "execution_count": null,
   "metadata": {},
   "outputs": [],
   "source": [
    "# Set up the WebDriver (ensure the path to your WebDriver is correct)\n",
    "service = Service(\"/opt/homebrew/bin/chromedriver\")\n",
    "driver = webdriver.Chrome(service=service)"
   ]
  },
  {
   "cell_type": "code",
   "execution_count": null,
   "metadata": {},
   "outputs": [],
   "source": [
    "driver.get(\"https://data.usaswimming.org/datahub/usas/individualsearch\")\n",
    "\n",
    "# Allow some time for the page to load\n",
    "time.sleep(5)  # Adjust this as necessary"
   ]
  },
  {
   "cell_type": "code",
   "execution_count": null,
   "metadata": {},
   "outputs": [],
   "source": [
    "# Locate the search input fields by their names or IDs\n",
    "first_name_input = driver.find_element(By.NAME, \"firstOrPreferredName\")  # Update with the actual name attribute\n",
    "last_name_input = driver.find_element(By.NAME, \"lastName\")"
   ]
  },
  {
   "cell_type": "code",
   "execution_count": null,
   "metadata": {},
   "outputs": [],
   "source": [
    "# Input the swimmer's name\n",
    "first_name_input.send_keys(\"Alyssa\")  # Example first name\n",
    "last_name_input.send_keys(\"Wang\")\n",
    "# Submit the search form\n",
    "last_name_input.send_keys(Keys.RETURN)"
   ]
  },
  {
   "cell_type": "code",
   "execution_count": 6,
   "metadata": {},
   "outputs": [],
   "source": [
    "time.sleep(5)"
   ]
  },
  {
   "cell_type": "code",
   "execution_count": null,
   "metadata": {},
   "outputs": [],
   "source": [
    "# First find the row\n",
    "row = driver.find_element(By.XPATH, \"//tr[contains(., 'Rockwood Swim Club')]\")\n",
    "# Then find the button within that row\n",
    "button = row.find_element(By.CLASS_NAME, \"_ActionButton_8nq2x_59\")  # Adjust selector as needed\n",
    "button.click()\n",
    "time.sleep(5)"
   ]
  },
  {
   "cell_type": "code",
   "execution_count": 18,
   "metadata": {},
   "outputs": [],
   "source": [
    "wait = WebDriverWait(driver, 10)\n",
    "dropdown = wait.until(EC.presence_of_element_located((By.NAME, \"competitionYearId\")))\n",
    "\n",
    "# Create Select object and select first option\n",
    "select = Select(dropdown)\n",
    "select.select_by_value(\"-1\")"
   ]
  },
  {
   "cell_type": "code",
   "execution_count": null,
   "metadata": {},
   "outputs": [
    {
     "name": "stdout",
     "output_type": "stream",
     "text": [
      "Table downloaded successfully!\n"
     ]
    }
   ],
   "source": [
    "try:\n",
    "    # Wait for table to be present\n",
    "    table = wait.until(EC.presence_of_element_located((By.TAG_NAME, \"table\")))\n",
    "\n",
    "    # Get headers\n",
    "    headers = []\n",
    "    for header in table.find_elements(By.TAG_NAME, \"th\"):\n",
    "        headers.append(header.text)\n",
    "\n",
    "    # Get rows\n",
    "    rows = []\n",
    "    for row in table.find_elements(By.TAG_NAME, \"tr\")[1:]:  # Skip header row\n",
    "        row_data = []\n",
    "        for cell in row.find_elements(By.TAG_NAME, \"td\"):\n",
    "            row_data.append(cell.text)\n",
    "        rows.append(row_data)\n",
    "\n",
    "    # Create DataFrame\n",
    "    df = pd.DataFrame(rows, columns=headers)\n",
    "    df = df.rename(columns=lambda x: x.split(\"\\n\")[0] if \"\\n\" in x else x)\n",
    "\n",
    "    # Save to CSV\n",
    "    df.to_csv(\"downloaded_table.csv\", index=False)\n",
    "    print(\"Table downloaded successfully!\")\n",
    "\n",
    "except Exception as e:\n",
    "    print(f\"Error downloading table: {e}\")"
   ]
  }
 ],
 "metadata": {
  "kernelspec": {
   "display_name": "scraper",
   "language": "python",
   "name": "python3"
  },
  "language_info": {
   "codemirror_mode": {
    "name": "ipython",
    "version": 3
   },
   "file_extension": ".py",
   "mimetype": "text/x-python",
   "name": "python",
   "nbconvert_exporter": "python",
   "pygments_lexer": "ipython3",
   "version": "3.11.9"
  }
 },
 "nbformat": 4,
 "nbformat_minor": 2
}
