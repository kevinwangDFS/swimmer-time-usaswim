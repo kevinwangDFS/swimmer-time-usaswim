{
 "cells": [
  {
   "cell_type": "code",
   "execution_count": 20,
   "metadata": {},
   "outputs": [],
   "source": [
    "from selenium import webdriver\n",
    "from selenium.webdriver.common.by import By\n",
    "from selenium.webdriver.common.keys import Keys\n",
    "from selenium.webdriver.chrome.service import Service\n",
    "from selenium.webdriver.support import expected_conditions as EC\n",
    "from selenium.webdriver.support.ui import WebDriverWait, Select\n",
    "import time\n",
    "import pandas as pd"
   ]
  },
  {
   "cell_type": "code",
   "execution_count": null,
   "metadata": {},
   "outputs": [],
   "source": [
    "# Set up the WebDriver (ensure the path to your WebDriver is correct)\n",
    "service = Service(\"/opt/homebrew/bin/chromedriver\")\n",
    "driver = webdriver.Chrome(service=service)"
   ]
  },
  {
   "cell_type": "code",
   "execution_count": null,
   "metadata": {},
   "outputs": [],
   "source": [
    "driver.get(\"https://data.usaswimming.org/datahub/usas/individualsearch\")\n",
    "\n",
    "# Allow some time for the page to load\n",
    "time.sleep(5)  # Adjust this as necessary"
   ]
  },
  {
   "cell_type": "code",
   "execution_count": null,
   "metadata": {},
   "outputs": [],
   "source": [
    "# Locate the search input fields by their names or IDs\n",
    "first_name_input = driver.find_element(By.NAME, \"firstOrPreferredName\")  # Update with the actual name attribute\n",
    "last_name_input = driver.find_element(By.NAME, \"lastName\")"
   ]
  },
  {
   "cell_type": "code",
   "execution_count": null,
   "metadata": {},
   "outputs": [],
   "source": [
    "# Input the swimmer's name\n",
    "first_name_input.send_keys(\"Alyssa\")  # Example first name\n",
    "last_name_input.send_keys(\"Wang\")\n",
    "# Submit the search form\n",
    "last_name_input.send_keys(Keys.RETURN)"
   ]
  },
  {
   "cell_type": "code",
   "execution_count": 6,
   "metadata": {},
   "outputs": [],
   "source": [
    "time.sleep(5)"
   ]
  },
  {
   "cell_type": "code",
   "execution_count": null,
   "metadata": {},
   "outputs": [],
   "source": [
    "# First find the row\n",
    "row = driver.find_element(By.XPATH, \"//tr[contains(., 'Rockwood Swim Club')]\")\n",
    "# Then find the button within that row\n",
    "button = row.find_element(By.CLASS_NAME, \"_ActionButton_8nq2x_59\")  # Adjust selector as needed\n",
    "button.click()\n",
    "time.sleep(5)"
   ]
  },
  {
   "cell_type": "code",
   "execution_count": 18,
   "metadata": {},
   "outputs": [],
   "source": [
    "wait = WebDriverWait(driver, 10)\n",
    "dropdown = wait.until(EC.presence_of_element_located((By.NAME, \"competitionYearId\")))\n",
    "\n",
    "# Create Select object and select first option\n",
    "select = Select(dropdown)\n",
    "select.select_by_value(\"-1\")"
   ]
  },
  {
   "cell_type": "code",
   "execution_count": null,
   "metadata": {},
   "outputs": [
    {
     "name": "stdout",
     "output_type": "stream",
     "text": [
      "Table downloaded successfully!\n"
     ]
    }
   ],
   "source": [
    "try:\n",
    "    # Wait for table to be present\n",
    "    table = wait.until(EC.presence_of_element_located((By.TAG_NAME, \"table\")))\n",
    "\n",
    "    # Get headers\n",
    "    headers = []\n",
    "    for header in table.find_elements(By.TAG_NAME, \"th\"):\n",
    "        headers.append(header.text)\n",
    "\n",
    "    # Get rows\n",
    "    rows = []\n",
    "    for row in table.find_elements(By.TAG_NAME, \"tr\")[1:]:  # Skip header row\n",
    "        row_data = []\n",
    "        for cell in row.find_elements(By.TAG_NAME, \"td\"):\n",
    "            row_data.append(cell.text)\n",
    "        rows.append(row_data)\n",
    "\n",
    "    # Create DataFrame\n",
    "    df = pd.DataFrame(rows, columns=headers)\n",
    "    df = df.rename(columns=lambda x: x.split(\"\\n\")[0] if \"\\n\" in x else x)\n",
    "\n",
    "    # Save to CSV\n",
    "    df.to_csv(\"downloaded_table.csv\", index=False)\n",
    "    print(\"Table downloaded successfully!\")\n",
    "\n",
    "except Exception as e:\n",
    "    print(f\"Error downloading table: {e}\")"
   ]
  },
  {
   "cell_type": "code",
   "execution_count": null,
   "metadata": {},
   "outputs": [],
   "source": [
    "df = df.rename(columns=lambda x: x.split(\"\\n\")[0] if \"\\n\" in x else x)"
   ]
  },
  {
   "cell_type": "code",
   "execution_count": 24,
   "metadata": {},
   "outputs": [
    {
     "data": {
      "text/html": [
       "<div>\n",
       "<style scoped>\n",
       "    .dataframe tbody tr th:only-of-type {\n",
       "        vertical-align: middle;\n",
       "    }\n",
       "\n",
       "    .dataframe tbody tr th {\n",
       "        vertical-align: top;\n",
       "    }\n",
       "\n",
       "    .dataframe thead th {\n",
       "        text-align: right;\n",
       "    }\n",
       "</style>\n",
       "<table border=\"1\" class=\"dataframe\">\n",
       "  <thead>\n",
       "    <tr style=\"text-align: right;\">\n",
       "      <th></th>\n",
       "      <th>EVENT</th>\n",
       "      <th>SWIM TIME</th>\n",
       "      <th>AGE</th>\n",
       "      <th>POINTS</th>\n",
       "      <th>TIME STANDARD</th>\n",
       "      <th>MEET</th>\n",
       "      <th>LSC</th>\n",
       "      <th>TEAM</th>\n",
       "      <th>SWIM DATE</th>\n",
       "      <th></th>\n",
       "    </tr>\n",
       "  </thead>\n",
       "  <tbody>\n",
       "    <tr>\n",
       "      <th>0</th>\n",
       "      <td>50 FR SCY</td>\n",
       "      <td>34.33</td>\n",
       "      <td>10</td>\n",
       "      <td>360</td>\n",
       "      <td>\"BB\"</td>\n",
       "      <td>2025 OZ 2025 RSCA Qualifier</td>\n",
       "      <td>OZ</td>\n",
       "      <td>Rockwood Swim Club</td>\n",
       "      <td>02/09/2025</td>\n",
       "      <td>PROGRESSION</td>\n",
       "    </tr>\n",
       "    <tr>\n",
       "      <th>1</th>\n",
       "      <td>50 FR SCY</td>\n",
       "      <td>35.27</td>\n",
       "      <td>10</td>\n",
       "      <td>310</td>\n",
       "      <td>\"BB\"</td>\n",
       "      <td>2025 OZ RSCA Polar Dash</td>\n",
       "      <td>OZ</td>\n",
       "      <td>Rockwood Swim Club</td>\n",
       "      <td>01/11/2025</td>\n",
       "      <td>PROGRESSION</td>\n",
       "    </tr>\n",
       "    <tr>\n",
       "      <th>2</th>\n",
       "      <td>50 FR SCY</td>\n",
       "      <td>35.60</td>\n",
       "      <td>10</td>\n",
       "      <td>292</td>\n",
       "      <td>\"BB\"</td>\n",
       "      <td>2024 OZ Fall FASTival</td>\n",
       "      <td>OZ</td>\n",
       "      <td>Rockwood Swim Club</td>\n",
       "      <td>11/24/2024</td>\n",
       "      <td>PROGRESSION</td>\n",
       "    </tr>\n",
       "    <tr>\n",
       "      <th>3</th>\n",
       "      <td>50 FR SCY</td>\n",
       "      <td>37.32</td>\n",
       "      <td>9</td>\n",
       "      <td>332</td>\n",
       "      <td>2020-2024 B</td>\n",
       "      <td>2024 OZ RSCA Polar Dash</td>\n",
       "      <td>OZ</td>\n",
       "      <td>Rockwood Swim Club</td>\n",
       "      <td>01/06/2024</td>\n",
       "      <td>PROGRESSION</td>\n",
       "    </tr>\n",
       "    <tr>\n",
       "      <th>4</th>\n",
       "      <td>50 FR SCY</td>\n",
       "      <td>37.43</td>\n",
       "      <td>9</td>\n",
       "      <td>326</td>\n",
       "      <td>2020-2024 B</td>\n",
       "      <td>2024 OZ RSCA Qualifier</td>\n",
       "      <td>OZ</td>\n",
       "      <td>Rockwood Swim Club</td>\n",
       "      <td>02/11/2024</td>\n",
       "      <td>PROGRESSION</td>\n",
       "    </tr>\n",
       "  </tbody>\n",
       "</table>\n",
       "</div>"
      ],
      "text/plain": [
       "       EVENT SWIM TIME AGE POINTS TIME STANDARD                         MEET  \\\n",
       "0  50 FR SCY     34.33  10    360          \"BB\"  2025 OZ 2025 RSCA Qualifier   \n",
       "1  50 FR SCY     35.27  10    310          \"BB\"      2025 OZ RSCA Polar Dash   \n",
       "2  50 FR SCY     35.60  10    292          \"BB\"        2024 OZ Fall FASTival   \n",
       "3  50 FR SCY     37.32   9    332   2020-2024 B      2024 OZ RSCA Polar Dash   \n",
       "4  50 FR SCY     37.43   9    326   2020-2024 B       2024 OZ RSCA Qualifier   \n",
       "\n",
       "  LSC                TEAM   SWIM DATE               \n",
       "0  OZ  Rockwood Swim Club  02/09/2025  PROGRESSION  \n",
       "1  OZ  Rockwood Swim Club  01/11/2025  PROGRESSION  \n",
       "2  OZ  Rockwood Swim Club  11/24/2024  PROGRESSION  \n",
       "3  OZ  Rockwood Swim Club  01/06/2024  PROGRESSION  \n",
       "4  OZ  Rockwood Swim Club  02/11/2024  PROGRESSION  "
      ]
     },
     "execution_count": 24,
     "metadata": {},
     "output_type": "execute_result"
    }
   ],
   "source": [
    "df.head()"
   ]
  },
  {
   "cell_type": "code",
   "execution_count": null,
   "metadata": {},
   "outputs": [],
   "source": []
  }
 ],
 "metadata": {
  "kernelspec": {
   "display_name": "scraper",
   "language": "python",
   "name": "python3"
  },
  "language_info": {
   "codemirror_mode": {
    "name": "ipython",
    "version": 3
   },
   "file_extension": ".py",
   "mimetype": "text/x-python",
   "name": "python",
   "nbconvert_exporter": "python",
   "pygments_lexer": "ipython3",
   "version": "3.11.9"
  }
 },
 "nbformat": 4,
 "nbformat_minor": 2
}
